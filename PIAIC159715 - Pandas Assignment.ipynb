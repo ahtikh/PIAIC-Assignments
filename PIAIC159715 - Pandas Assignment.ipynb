{
 "cells": [
  {
   "cell_type": "code",
   "execution_count": 1,
   "metadata": {},
   "outputs": [],
   "source": [
    "import pandas as pd\n",
    "import numpy as np\n",
    "import os"
   ]
  },
  {
   "cell_type": "code",
   "execution_count": 2,
   "metadata": {},
   "outputs": [
    {
     "data": {
      "text/plain": [
       "['.ipynb_checkpoints',\n",
       " 'inventory.csv',\n",
       " 'PIAIC159715 - Pandas Assignment.ipynb',\n",
       " 'README.md',\n",
       " 'states0.csv',\n",
       " 'states1.csv',\n",
       " 'states2.csv',\n",
       " 'states3.csv',\n",
       " 'states4.csv',\n",
       " 'states5.csv',\n",
       " 'states6.csv',\n",
       " 'states7.csv',\n",
       " 'states8.csv',\n",
       " 'states9.csv']"
      ]
     },
     "execution_count": 2,
     "metadata": {},
     "output_type": "execute_result"
    }
   ],
   "source": [
    "os.listdir()"
   ]
  },
  {
   "cell_type": "code",
   "execution_count": 3,
   "metadata": {},
   "outputs": [],
   "source": [
    "listOfStates = os.listdir()[4:-1]\n",
    "cols = ['State', 'TotalPop', 'Hispanic', 'White', 'Black','Native', 'Asian', 'Pacific', 'Income', 'GenderPop']"
   ]
  },
  {
   "cell_type": "code",
   "execution_count": 4,
   "metadata": {},
   "outputs": [],
   "source": [
    "states = pd.concat([pd.read_csv(f, usecols = cols ) for f in listOfStates])"
   ]
  },
  {
   "cell_type": "code",
   "execution_count": 5,
   "metadata": {},
   "outputs": [
    {
     "name": "stdout",
     "output_type": "stream",
     "text": [
      "<class 'pandas.core.frame.DataFrame'>\n",
      "Int64Index: 54 entries, 0 to 5\n",
      "Data columns (total 10 columns):\n",
      "State        54 non-null object\n",
      "TotalPop     54 non-null int64\n",
      "Hispanic     54 non-null object\n",
      "White        54 non-null object\n",
      "Black        54 non-null object\n",
      "Native       54 non-null object\n",
      "Asian        54 non-null object\n",
      "Pacific      49 non-null object\n",
      "Income       54 non-null object\n",
      "GenderPop    54 non-null object\n",
      "dtypes: int64(1), object(9)\n",
      "memory usage: 4.6+ KB\n"
     ]
    }
   ],
   "source": [
    "states.info()"
   ]
  },
  {
   "cell_type": "code",
   "execution_count": 6,
   "metadata": {},
   "outputs": [
    {
     "data": {
      "text/html": [
       "<div>\n",
       "<style scoped>\n",
       "    .dataframe tbody tr th:only-of-type {\n",
       "        vertical-align: middle;\n",
       "    }\n",
       "\n",
       "    .dataframe tbody tr th {\n",
       "        vertical-align: top;\n",
       "    }\n",
       "\n",
       "    .dataframe thead th {\n",
       "        text-align: right;\n",
       "    }\n",
       "</style>\n",
       "<table border=\"1\" class=\"dataframe\">\n",
       "  <thead>\n",
       "    <tr style=\"text-align: right;\">\n",
       "      <th></th>\n",
       "      <th>State</th>\n",
       "      <th>TotalPop</th>\n",
       "      <th>Hispanic</th>\n",
       "      <th>White</th>\n",
       "      <th>Black</th>\n",
       "      <th>Native</th>\n",
       "      <th>Asian</th>\n",
       "      <th>Pacific</th>\n",
       "      <th>Income</th>\n",
       "      <th>GenderPop</th>\n",
       "    </tr>\n",
       "  </thead>\n",
       "  <tbody>\n",
       "    <tr>\n",
       "      <td>0</td>\n",
       "      <td>Alabama</td>\n",
       "      <td>4830620</td>\n",
       "      <td>3.7516156462584975%</td>\n",
       "      <td>61.878656462585%</td>\n",
       "      <td>31.25297619047618%</td>\n",
       "      <td>0.4532312925170065%</td>\n",
       "      <td>1.0502551020408146%</td>\n",
       "      <td>0.03435374149659865%</td>\n",
       "      <td>$43296.35860306644</td>\n",
       "      <td>2341093M_2489527F</td>\n",
       "    </tr>\n",
       "    <tr>\n",
       "      <td>1</td>\n",
       "      <td>Alaska</td>\n",
       "      <td>733375</td>\n",
       "      <td>5.909580838323351%</td>\n",
       "      <td>60.910179640718574%</td>\n",
       "      <td>2.8485029940119775%</td>\n",
       "      <td>16.39101796407186%</td>\n",
       "      <td>5.450299401197604%</td>\n",
       "      <td>1.0586826347305378%</td>\n",
       "      <td>$70354.74390243902</td>\n",
       "      <td>384160M_349215F</td>\n",
       "    </tr>\n",
       "    <tr>\n",
       "      <td>2</td>\n",
       "      <td>Arizona</td>\n",
       "      <td>6641928</td>\n",
       "      <td>29.565921052631502%</td>\n",
       "      <td>57.120000000000026%</td>\n",
       "      <td>3.8509868421052658%</td>\n",
       "      <td>4.35506578947368%</td>\n",
       "      <td>2.876578947368419%</td>\n",
       "      <td>0.16763157894736833%</td>\n",
       "      <td>$54207.82095490716</td>\n",
       "      <td>3299088M_3342840F</td>\n",
       "    </tr>\n",
       "    <tr>\n",
       "      <td>3</td>\n",
       "      <td>Arkansas</td>\n",
       "      <td>2958208</td>\n",
       "      <td>6.215474452554738%</td>\n",
       "      <td>71.13781021897813%</td>\n",
       "      <td>18.968759124087573%</td>\n",
       "      <td>0.5229197080291965%</td>\n",
       "      <td>1.1423357664233578%</td>\n",
       "      <td>0.14686131386861315%</td>\n",
       "      <td>$41935.63396778917</td>\n",
       "      <td>1451913M_1506295F</td>\n",
       "    </tr>\n",
       "    <tr>\n",
       "      <td>4</td>\n",
       "      <td>California</td>\n",
       "      <td>38421464</td>\n",
       "      <td>37.291874687968054%</td>\n",
       "      <td>40.21578881677474%</td>\n",
       "      <td>5.677396405391911%</td>\n",
       "      <td>0.40529206190713685%</td>\n",
       "      <td>13.052234148776776%</td>\n",
       "      <td>0.35141038442336353%</td>\n",
       "      <td>$67264.78230266465</td>\n",
       "      <td>19087135M_19334329F</td>\n",
       "    </tr>\n",
       "    <tr>\n",
       "      <td>5</td>\n",
       "      <td>Colorado</td>\n",
       "      <td>5278906</td>\n",
       "      <td>20.78438003220608%</td>\n",
       "      <td>69.89557165861504%</td>\n",
       "      <td>3.546376811594201%</td>\n",
       "      <td>0.5738325281803548%</td>\n",
       "      <td>2.661996779388082%</td>\n",
       "      <td>NaN</td>\n",
       "      <td>$64657.801787164906</td>\n",
       "      <td>2648667M_2630239F</td>\n",
       "    </tr>\n",
       "    <tr>\n",
       "      <td>0</td>\n",
       "      <td>Colorado</td>\n",
       "      <td>5278906</td>\n",
       "      <td>20.78438003220608%</td>\n",
       "      <td>69.89557165861504%</td>\n",
       "      <td>3.546376811594201%</td>\n",
       "      <td>0.5738325281803548%</td>\n",
       "      <td>2.661996779388082%</td>\n",
       "      <td>NaN</td>\n",
       "      <td>$64657.801787164906</td>\n",
       "      <td>2648667M_2630239F</td>\n",
       "    </tr>\n",
       "    <tr>\n",
       "      <td>1</td>\n",
       "      <td>Connecticut</td>\n",
       "      <td>3593222</td>\n",
       "      <td>15.604830917874388%</td>\n",
       "      <td>67.6770531400966%</td>\n",
       "      <td>10.34806763285027%</td>\n",
       "      <td>0.12620772946859898%</td>\n",
       "      <td>4.021980676328502%</td>\n",
       "      <td>0.018599033816425123%</td>\n",
       "      <td>$76146.5605875153</td>\n",
       "      <td>1751607M_1841615F</td>\n",
       "    </tr>\n",
       "    <tr>\n",
       "      <td>2</td>\n",
       "      <td>Delaware</td>\n",
       "      <td>926454</td>\n",
       "      <td>8.82476635514019%</td>\n",
       "      <td>64.63271028037383%</td>\n",
       "      <td>20.743925233644834%</td>\n",
       "      <td>0.25981308411214965%</td>\n",
       "      <td>3.2686915887850483%</td>\n",
       "      <td>NaN</td>\n",
       "      <td>$61827.97663551402</td>\n",
       "      <td>448413M_478041F</td>\n",
       "    </tr>\n",
       "    <tr>\n",
       "      <td>3</td>\n",
       "      <td>District of Columbia</td>\n",
       "      <td>647484</td>\n",
       "      <td>9.165921787709499%</td>\n",
       "      <td>33.103910614525134%</td>\n",
       "      <td>51.77653631284915%</td>\n",
       "      <td>0.20055865921787713%</td>\n",
       "      <td>3.3832402234636865%</td>\n",
       "      <td>0.029608938547486034%</td>\n",
       "      <td>$75466.36363636363</td>\n",
       "      <td>306674M_340810F</td>\n",
       "    </tr>\n",
       "  </tbody>\n",
       "</table>\n",
       "</div>"
      ],
      "text/plain": [
       "                  State  TotalPop             Hispanic                White  \\\n",
       "0               Alabama   4830620  3.7516156462584975%     61.878656462585%   \n",
       "1                Alaska    733375   5.909580838323351%  60.910179640718574%   \n",
       "2               Arizona   6641928  29.565921052631502%  57.120000000000026%   \n",
       "3              Arkansas   2958208   6.215474452554738%   71.13781021897813%   \n",
       "4            California  38421464  37.291874687968054%   40.21578881677474%   \n",
       "5              Colorado   5278906   20.78438003220608%   69.89557165861504%   \n",
       "0              Colorado   5278906   20.78438003220608%   69.89557165861504%   \n",
       "1           Connecticut   3593222  15.604830917874388%    67.6770531400966%   \n",
       "2              Delaware    926454    8.82476635514019%   64.63271028037383%   \n",
       "3  District of Columbia    647484   9.165921787709499%  33.103910614525134%   \n",
       "\n",
       "                 Black                Native                Asian  \\\n",
       "0   31.25297619047618%   0.4532312925170065%  1.0502551020408146%   \n",
       "1  2.8485029940119775%    16.39101796407186%   5.450299401197604%   \n",
       "2  3.8509868421052658%     4.35506578947368%   2.876578947368419%   \n",
       "3  18.968759124087573%   0.5229197080291965%  1.1423357664233578%   \n",
       "4   5.677396405391911%  0.40529206190713685%  13.052234148776776%   \n",
       "5   3.546376811594201%   0.5738325281803548%   2.661996779388082%   \n",
       "0   3.546376811594201%   0.5738325281803548%   2.661996779388082%   \n",
       "1   10.34806763285027%  0.12620772946859898%   4.021980676328502%   \n",
       "2  20.743925233644834%  0.25981308411214965%  3.2686915887850483%   \n",
       "3   51.77653631284915%  0.20055865921787713%  3.3832402234636865%   \n",
       "\n",
       "                 Pacific               Income            GenderPop  \n",
       "0   0.03435374149659865%   $43296.35860306644    2341093M_2489527F  \n",
       "1    1.0586826347305378%   $70354.74390243902      384160M_349215F  \n",
       "2   0.16763157894736833%   $54207.82095490716    3299088M_3342840F  \n",
       "3   0.14686131386861315%   $41935.63396778917    1451913M_1506295F  \n",
       "4   0.35141038442336353%   $67264.78230266465  19087135M_19334329F  \n",
       "5                    NaN  $64657.801787164906    2648667M_2630239F  \n",
       "0                    NaN  $64657.801787164906    2648667M_2630239F  \n",
       "1  0.018599033816425123%    $76146.5605875153    1751607M_1841615F  \n",
       "2                    NaN   $61827.97663551402      448413M_478041F  \n",
       "3  0.029608938547486034%   $75466.36363636363      306674M_340810F  "
      ]
     },
     "execution_count": 6,
     "metadata": {},
     "output_type": "execute_result"
    }
   ],
   "source": [
    "states.head(10)"
   ]
  },
  {
   "cell_type": "code",
   "execution_count": 7,
   "metadata": {},
   "outputs": [],
   "source": [
    "states['Pacific'] = states['Pacific'].fillna('%')"
   ]
  },
  {
   "cell_type": "code",
   "execution_count": 9,
   "metadata": {},
   "outputs": [],
   "source": [
    "states['Income'] = states['Income'].apply(lambda x: x.lstrip('$'))\n",
    "states['MalePop'] = states['GenderPop'].apply(lambda x: x.split('_')[0].rstrip('M'))\n",
    "states['FemalePop'] = states['GenderPop'].apply(lambda x: x.split('_')[1].rstrip('F'))\n",
    "states['Hispanic'] = states['Hispanic'].apply(lambda x: x.rstrip('%'))\n",
    "states['White'] = states['White'].apply(lambda x: x.rstrip('%'))\n",
    "states['Black'] = states['Black'].apply(lambda x: x.rstrip('%'))\n",
    "states['Native'] = states['Native'].apply(lambda x: x.rstrip('%'))\n",
    "states['Asian'] = states['Asian'].apply(lambda x: x.rstrip('%'))\n",
    "states['Pacific'] = states['Pacific'].apply(lambda x: x.rstrip('%'))\n",
    "\n",
    "states.replace(r'^\\s*$', np.nan, regex=True,inplace=True)"
   ]
  },
  {
   "cell_type": "code",
   "execution_count": 10,
   "metadata": {},
   "outputs": [
    {
     "data": {
      "text/html": [
       "<div>\n",
       "<style scoped>\n",
       "    .dataframe tbody tr th:only-of-type {\n",
       "        vertical-align: middle;\n",
       "    }\n",
       "\n",
       "    .dataframe tbody tr th {\n",
       "        vertical-align: top;\n",
       "    }\n",
       "\n",
       "    .dataframe thead th {\n",
       "        text-align: right;\n",
       "    }\n",
       "</style>\n",
       "<table border=\"1\" class=\"dataframe\">\n",
       "  <thead>\n",
       "    <tr style=\"text-align: right;\">\n",
       "      <th></th>\n",
       "      <th>State</th>\n",
       "      <th>TotalPop</th>\n",
       "      <th>Hispanic</th>\n",
       "      <th>White</th>\n",
       "      <th>Black</th>\n",
       "      <th>Native</th>\n",
       "      <th>Asian</th>\n",
       "      <th>Pacific</th>\n",
       "      <th>Income</th>\n",
       "      <th>GenderPop</th>\n",
       "      <th>MalePop</th>\n",
       "      <th>FemalePop</th>\n",
       "    </tr>\n",
       "  </thead>\n",
       "  <tbody>\n",
       "    <tr>\n",
       "      <td>0</td>\n",
       "      <td>Alabama</td>\n",
       "      <td>4830620</td>\n",
       "      <td>3.7516156462584975</td>\n",
       "      <td>61.878656462585</td>\n",
       "      <td>31.25297619047618</td>\n",
       "      <td>0.4532312925170065</td>\n",
       "      <td>1.0502551020408146</td>\n",
       "      <td>0.03435374149659865</td>\n",
       "      <td>43296.35860306644</td>\n",
       "      <td>2341093M_2489527F</td>\n",
       "      <td>2341093</td>\n",
       "      <td>2489527</td>\n",
       "    </tr>\n",
       "    <tr>\n",
       "      <td>1</td>\n",
       "      <td>Alaska</td>\n",
       "      <td>733375</td>\n",
       "      <td>5.909580838323351</td>\n",
       "      <td>60.910179640718574</td>\n",
       "      <td>2.8485029940119775</td>\n",
       "      <td>16.39101796407186</td>\n",
       "      <td>5.450299401197604</td>\n",
       "      <td>1.0586826347305378</td>\n",
       "      <td>70354.74390243902</td>\n",
       "      <td>384160M_349215F</td>\n",
       "      <td>384160</td>\n",
       "      <td>349215</td>\n",
       "    </tr>\n",
       "    <tr>\n",
       "      <td>2</td>\n",
       "      <td>Arizona</td>\n",
       "      <td>6641928</td>\n",
       "      <td>29.565921052631502</td>\n",
       "      <td>57.120000000000026</td>\n",
       "      <td>3.8509868421052658</td>\n",
       "      <td>4.35506578947368</td>\n",
       "      <td>2.876578947368419</td>\n",
       "      <td>0.16763157894736833</td>\n",
       "      <td>54207.82095490716</td>\n",
       "      <td>3299088M_3342840F</td>\n",
       "      <td>3299088</td>\n",
       "      <td>3342840</td>\n",
       "    </tr>\n",
       "    <tr>\n",
       "      <td>3</td>\n",
       "      <td>Arkansas</td>\n",
       "      <td>2958208</td>\n",
       "      <td>6.215474452554738</td>\n",
       "      <td>71.13781021897813</td>\n",
       "      <td>18.968759124087573</td>\n",
       "      <td>0.5229197080291965</td>\n",
       "      <td>1.1423357664233578</td>\n",
       "      <td>0.14686131386861315</td>\n",
       "      <td>41935.63396778917</td>\n",
       "      <td>1451913M_1506295F</td>\n",
       "      <td>1451913</td>\n",
       "      <td>1506295</td>\n",
       "    </tr>\n",
       "    <tr>\n",
       "      <td>4</td>\n",
       "      <td>California</td>\n",
       "      <td>38421464</td>\n",
       "      <td>37.291874687968054</td>\n",
       "      <td>40.21578881677474</td>\n",
       "      <td>5.677396405391911</td>\n",
       "      <td>0.40529206190713685</td>\n",
       "      <td>13.052234148776776</td>\n",
       "      <td>0.35141038442336353</td>\n",
       "      <td>67264.78230266465</td>\n",
       "      <td>19087135M_19334329F</td>\n",
       "      <td>19087135</td>\n",
       "      <td>19334329</td>\n",
       "    </tr>\n",
       "    <tr>\n",
       "      <td>5</td>\n",
       "      <td>Colorado</td>\n",
       "      <td>5278906</td>\n",
       "      <td>20.78438003220608</td>\n",
       "      <td>69.89557165861504</td>\n",
       "      <td>3.546376811594201</td>\n",
       "      <td>0.5738325281803548</td>\n",
       "      <td>2.661996779388082</td>\n",
       "      <td>NaN</td>\n",
       "      <td>64657.801787164906</td>\n",
       "      <td>2648667M_2630239F</td>\n",
       "      <td>2648667</td>\n",
       "      <td>2630239</td>\n",
       "    </tr>\n",
       "    <tr>\n",
       "      <td>0</td>\n",
       "      <td>Colorado</td>\n",
       "      <td>5278906</td>\n",
       "      <td>20.78438003220608</td>\n",
       "      <td>69.89557165861504</td>\n",
       "      <td>3.546376811594201</td>\n",
       "      <td>0.5738325281803548</td>\n",
       "      <td>2.661996779388082</td>\n",
       "      <td>NaN</td>\n",
       "      <td>64657.801787164906</td>\n",
       "      <td>2648667M_2630239F</td>\n",
       "      <td>2648667</td>\n",
       "      <td>2630239</td>\n",
       "    </tr>\n",
       "    <tr>\n",
       "      <td>1</td>\n",
       "      <td>Connecticut</td>\n",
       "      <td>3593222</td>\n",
       "      <td>15.604830917874388</td>\n",
       "      <td>67.6770531400966</td>\n",
       "      <td>10.34806763285027</td>\n",
       "      <td>0.12620772946859898</td>\n",
       "      <td>4.021980676328502</td>\n",
       "      <td>0.018599033816425123</td>\n",
       "      <td>76146.5605875153</td>\n",
       "      <td>1751607M_1841615F</td>\n",
       "      <td>1751607</td>\n",
       "      <td>1841615</td>\n",
       "    </tr>\n",
       "    <tr>\n",
       "      <td>2</td>\n",
       "      <td>Delaware</td>\n",
       "      <td>926454</td>\n",
       "      <td>8.82476635514019</td>\n",
       "      <td>64.63271028037383</td>\n",
       "      <td>20.743925233644834</td>\n",
       "      <td>0.25981308411214965</td>\n",
       "      <td>3.2686915887850483</td>\n",
       "      <td>NaN</td>\n",
       "      <td>61827.97663551402</td>\n",
       "      <td>448413M_478041F</td>\n",
       "      <td>448413</td>\n",
       "      <td>478041</td>\n",
       "    </tr>\n",
       "    <tr>\n",
       "      <td>3</td>\n",
       "      <td>District of Columbia</td>\n",
       "      <td>647484</td>\n",
       "      <td>9.165921787709499</td>\n",
       "      <td>33.103910614525134</td>\n",
       "      <td>51.77653631284915</td>\n",
       "      <td>0.20055865921787713</td>\n",
       "      <td>3.3832402234636865</td>\n",
       "      <td>0.029608938547486034</td>\n",
       "      <td>75466.36363636363</td>\n",
       "      <td>306674M_340810F</td>\n",
       "      <td>306674</td>\n",
       "      <td>340810</td>\n",
       "    </tr>\n",
       "  </tbody>\n",
       "</table>\n",
       "</div>"
      ],
      "text/plain": [
       "                  State  TotalPop            Hispanic               White  \\\n",
       "0               Alabama   4830620  3.7516156462584975     61.878656462585   \n",
       "1                Alaska    733375   5.909580838323351  60.910179640718574   \n",
       "2               Arizona   6641928  29.565921052631502  57.120000000000026   \n",
       "3              Arkansas   2958208   6.215474452554738   71.13781021897813   \n",
       "4            California  38421464  37.291874687968054   40.21578881677474   \n",
       "5              Colorado   5278906   20.78438003220608   69.89557165861504   \n",
       "0              Colorado   5278906   20.78438003220608   69.89557165861504   \n",
       "1           Connecticut   3593222  15.604830917874388    67.6770531400966   \n",
       "2              Delaware    926454    8.82476635514019   64.63271028037383   \n",
       "3  District of Columbia    647484   9.165921787709499  33.103910614525134   \n",
       "\n",
       "                Black               Native               Asian  \\\n",
       "0   31.25297619047618   0.4532312925170065  1.0502551020408146   \n",
       "1  2.8485029940119775    16.39101796407186   5.450299401197604   \n",
       "2  3.8509868421052658     4.35506578947368   2.876578947368419   \n",
       "3  18.968759124087573   0.5229197080291965  1.1423357664233578   \n",
       "4   5.677396405391911  0.40529206190713685  13.052234148776776   \n",
       "5   3.546376811594201   0.5738325281803548   2.661996779388082   \n",
       "0   3.546376811594201   0.5738325281803548   2.661996779388082   \n",
       "1   10.34806763285027  0.12620772946859898   4.021980676328502   \n",
       "2  20.743925233644834  0.25981308411214965  3.2686915887850483   \n",
       "3   51.77653631284915  0.20055865921787713  3.3832402234636865   \n",
       "\n",
       "                Pacific              Income            GenderPop   MalePop  \\\n",
       "0   0.03435374149659865   43296.35860306644    2341093M_2489527F   2341093   \n",
       "1    1.0586826347305378   70354.74390243902      384160M_349215F    384160   \n",
       "2   0.16763157894736833   54207.82095490716    3299088M_3342840F   3299088   \n",
       "3   0.14686131386861315   41935.63396778917    1451913M_1506295F   1451913   \n",
       "4   0.35141038442336353   67264.78230266465  19087135M_19334329F  19087135   \n",
       "5                   NaN  64657.801787164906    2648667M_2630239F   2648667   \n",
       "0                   NaN  64657.801787164906    2648667M_2630239F   2648667   \n",
       "1  0.018599033816425123    76146.5605875153    1751607M_1841615F   1751607   \n",
       "2                   NaN   61827.97663551402      448413M_478041F    448413   \n",
       "3  0.029608938547486034   75466.36363636363      306674M_340810F    306674   \n",
       "\n",
       "  FemalePop  \n",
       "0   2489527  \n",
       "1    349215  \n",
       "2   3342840  \n",
       "3   1506295  \n",
       "4  19334329  \n",
       "5   2630239  \n",
       "0   2630239  \n",
       "1   1841615  \n",
       "2    478041  \n",
       "3    340810  "
      ]
     },
     "execution_count": 10,
     "metadata": {},
     "output_type": "execute_result"
    }
   ],
   "source": [
    "states.head(10)"
   ]
  },
  {
   "cell_type": "code",
   "execution_count": 11,
   "metadata": {},
   "outputs": [
    {
     "name": "stdout",
     "output_type": "stream",
     "text": [
      "<class 'pandas.core.frame.DataFrame'>\n",
      "Int64Index: 54 entries, 0 to 5\n",
      "Data columns (total 12 columns):\n",
      "State        54 non-null object\n",
      "TotalPop     54 non-null int64\n",
      "Hispanic     54 non-null object\n",
      "White        54 non-null object\n",
      "Black        54 non-null object\n",
      "Native       54 non-null object\n",
      "Asian        54 non-null object\n",
      "Pacific      49 non-null object\n",
      "Income       54 non-null object\n",
      "GenderPop    54 non-null object\n",
      "MalePop      54 non-null object\n",
      "FemalePop    51 non-null object\n",
      "dtypes: int64(1), object(11)\n",
      "memory usage: 5.5+ KB\n"
     ]
    }
   ],
   "source": [
    "states.info()"
   ]
  },
  {
   "cell_type": "code",
   "execution_count": 12,
   "metadata": {},
   "outputs": [],
   "source": [
    "states['Income'] = states['Income'].astype(float)\n",
    "states['MalePop'] = states['MalePop'].astype(float)\n",
    "states['FemalePop'] = states['FemalePop'].astype(float)\n",
    "states['Hispanic'] = states['Hispanic'].astype(float)\n",
    "states['White'] = states['White'].astype(float)\n",
    "states['Black'] = states['Black'].astype(float)\n",
    "states['Native'] = states['Native'].astype(float)\n",
    "states['Asian'] = states['Asian'].astype(float)\n",
    "states['Pacific'] = states['Pacific'].astype(float)"
   ]
  },
  {
   "cell_type": "code",
   "execution_count": 13,
   "metadata": {},
   "outputs": [
    {
     "name": "stdout",
     "output_type": "stream",
     "text": [
      "<class 'pandas.core.frame.DataFrame'>\n",
      "Int64Index: 54 entries, 0 to 5\n",
      "Data columns (total 12 columns):\n",
      "State        54 non-null object\n",
      "TotalPop     54 non-null int64\n",
      "Hispanic     54 non-null float64\n",
      "White        54 non-null float64\n",
      "Black        54 non-null float64\n",
      "Native       54 non-null float64\n",
      "Asian        54 non-null float64\n",
      "Pacific      49 non-null float64\n",
      "Income       54 non-null float64\n",
      "GenderPop    54 non-null object\n",
      "MalePop      54 non-null float64\n",
      "FemalePop    51 non-null float64\n",
      "dtypes: float64(9), int64(1), object(2)\n",
      "memory usage: 5.5+ KB\n"
     ]
    }
   ],
   "source": [
    "states.info()"
   ]
  },
  {
   "cell_type": "code",
   "execution_count": 15,
   "metadata": {},
   "outputs": [
    {
     "data": {
      "text/html": [
       "<div>\n",
       "<style scoped>\n",
       "    .dataframe tbody tr th:only-of-type {\n",
       "        vertical-align: middle;\n",
       "    }\n",
       "\n",
       "    .dataframe tbody tr th {\n",
       "        vertical-align: top;\n",
       "    }\n",
       "\n",
       "    .dataframe thead th {\n",
       "        text-align: right;\n",
       "    }\n",
       "</style>\n",
       "<table border=\"1\" class=\"dataframe\">\n",
       "  <thead>\n",
       "    <tr style=\"text-align: right;\">\n",
       "      <th></th>\n",
       "      <th>State</th>\n",
       "      <th>TotalPop</th>\n",
       "      <th>Hispanic</th>\n",
       "      <th>White</th>\n",
       "      <th>Black</th>\n",
       "      <th>Native</th>\n",
       "      <th>Asian</th>\n",
       "      <th>Pacific</th>\n",
       "      <th>Income</th>\n",
       "      <th>GenderPop</th>\n",
       "      <th>MalePop</th>\n",
       "      <th>FemalePop</th>\n",
       "    </tr>\n",
       "  </thead>\n",
       "  <tbody>\n",
       "    <tr>\n",
       "      <td>0</td>\n",
       "      <td>Alabama</td>\n",
       "      <td>4830620</td>\n",
       "      <td>3.751616</td>\n",
       "      <td>61.878656</td>\n",
       "      <td>31.252976</td>\n",
       "      <td>0.453231</td>\n",
       "      <td>1.050255</td>\n",
       "      <td>0.034354</td>\n",
       "      <td>43296.358603</td>\n",
       "      <td>2341093M_2489527F</td>\n",
       "      <td>2341093.0</td>\n",
       "      <td>2489527.0</td>\n",
       "    </tr>\n",
       "    <tr>\n",
       "      <td>1</td>\n",
       "      <td>Alaska</td>\n",
       "      <td>733375</td>\n",
       "      <td>5.909581</td>\n",
       "      <td>60.910180</td>\n",
       "      <td>2.848503</td>\n",
       "      <td>16.391018</td>\n",
       "      <td>5.450299</td>\n",
       "      <td>1.058683</td>\n",
       "      <td>70354.743902</td>\n",
       "      <td>384160M_349215F</td>\n",
       "      <td>384160.0</td>\n",
       "      <td>349215.0</td>\n",
       "    </tr>\n",
       "    <tr>\n",
       "      <td>2</td>\n",
       "      <td>Arizona</td>\n",
       "      <td>6641928</td>\n",
       "      <td>29.565921</td>\n",
       "      <td>57.120000</td>\n",
       "      <td>3.850987</td>\n",
       "      <td>4.355066</td>\n",
       "      <td>2.876579</td>\n",
       "      <td>0.167632</td>\n",
       "      <td>54207.820955</td>\n",
       "      <td>3299088M_3342840F</td>\n",
       "      <td>3299088.0</td>\n",
       "      <td>3342840.0</td>\n",
       "    </tr>\n",
       "    <tr>\n",
       "      <td>3</td>\n",
       "      <td>Arkansas</td>\n",
       "      <td>2958208</td>\n",
       "      <td>6.215474</td>\n",
       "      <td>71.137810</td>\n",
       "      <td>18.968759</td>\n",
       "      <td>0.522920</td>\n",
       "      <td>1.142336</td>\n",
       "      <td>0.146861</td>\n",
       "      <td>41935.633968</td>\n",
       "      <td>1451913M_1506295F</td>\n",
       "      <td>1451913.0</td>\n",
       "      <td>1506295.0</td>\n",
       "    </tr>\n",
       "    <tr>\n",
       "      <td>4</td>\n",
       "      <td>California</td>\n",
       "      <td>38421464</td>\n",
       "      <td>37.291875</td>\n",
       "      <td>40.215789</td>\n",
       "      <td>5.677396</td>\n",
       "      <td>0.405292</td>\n",
       "      <td>13.052234</td>\n",
       "      <td>0.351410</td>\n",
       "      <td>67264.782303</td>\n",
       "      <td>19087135M_19334329F</td>\n",
       "      <td>19087135.0</td>\n",
       "      <td>19334329.0</td>\n",
       "    </tr>\n",
       "  </tbody>\n",
       "</table>\n",
       "</div>"
      ],
      "text/plain": [
       "        State  TotalPop   Hispanic      White      Black     Native  \\\n",
       "0     Alabama   4830620   3.751616  61.878656  31.252976   0.453231   \n",
       "1      Alaska    733375   5.909581  60.910180   2.848503  16.391018   \n",
       "2     Arizona   6641928  29.565921  57.120000   3.850987   4.355066   \n",
       "3    Arkansas   2958208   6.215474  71.137810  18.968759   0.522920   \n",
       "4  California  38421464  37.291875  40.215789   5.677396   0.405292   \n",
       "\n",
       "       Asian   Pacific        Income            GenderPop     MalePop  \\\n",
       "0   1.050255  0.034354  43296.358603    2341093M_2489527F   2341093.0   \n",
       "1   5.450299  1.058683  70354.743902      384160M_349215F    384160.0   \n",
       "2   2.876579  0.167632  54207.820955    3299088M_3342840F   3299088.0   \n",
       "3   1.142336  0.146861  41935.633968    1451913M_1506295F   1451913.0   \n",
       "4  13.052234  0.351410  67264.782303  19087135M_19334329F  19087135.0   \n",
       "\n",
       "    FemalePop  \n",
       "0   2489527.0  \n",
       "1    349215.0  \n",
       "2   3342840.0  \n",
       "3   1506295.0  \n",
       "4  19334329.0  "
      ]
     },
     "execution_count": 15,
     "metadata": {},
     "output_type": "execute_result"
    }
   ],
   "source": [
    "states.head()"
   ]
  },
  {
   "cell_type": "code",
   "execution_count": 16,
   "metadata": {},
   "outputs": [],
   "source": [
    "states.drop_duplicates(inplace=True)"
   ]
  },
  {
   "cell_type": "code",
   "execution_count": 17,
   "metadata": {},
   "outputs": [
    {
     "name": "stdout",
     "output_type": "stream",
     "text": [
      "<class 'pandas.core.frame.DataFrame'>\n",
      "Int64Index: 46 entries, 0 to 5\n",
      "Data columns (total 12 columns):\n",
      "State        46 non-null object\n",
      "TotalPop     46 non-null int64\n",
      "Hispanic     46 non-null float64\n",
      "White        46 non-null float64\n",
      "Black        46 non-null float64\n",
      "Native       46 non-null float64\n",
      "Asian        46 non-null float64\n",
      "Pacific      42 non-null float64\n",
      "Income       46 non-null float64\n",
      "GenderPop    46 non-null object\n",
      "MalePop      46 non-null float64\n",
      "FemalePop    44 non-null float64\n",
      "dtypes: float64(9), int64(1), object(2)\n",
      "memory usage: 4.7+ KB\n"
     ]
    }
   ],
   "source": [
    "states.info()"
   ]
  },
  {
   "cell_type": "code",
   "execution_count": 18,
   "metadata": {},
   "outputs": [],
   "source": [
    "states['Pacific'].fillna(states['Pacific'].mean(),inplace=True)"
   ]
  },
  {
   "cell_type": "code",
   "execution_count": 19,
   "metadata": {},
   "outputs": [
    {
     "name": "stdout",
     "output_type": "stream",
     "text": [
      "<class 'pandas.core.frame.DataFrame'>\n",
      "Int64Index: 46 entries, 0 to 5\n",
      "Data columns (total 12 columns):\n",
      "State        46 non-null object\n",
      "TotalPop     46 non-null int64\n",
      "Hispanic     46 non-null float64\n",
      "White        46 non-null float64\n",
      "Black        46 non-null float64\n",
      "Native       46 non-null float64\n",
      "Asian        46 non-null float64\n",
      "Pacific      46 non-null float64\n",
      "Income       46 non-null float64\n",
      "GenderPop    46 non-null object\n",
      "MalePop      46 non-null float64\n",
      "FemalePop    44 non-null float64\n",
      "dtypes: float64(9), int64(1), object(2)\n",
      "memory usage: 4.7+ KB\n"
     ]
    }
   ],
   "source": [
    "states.info()"
   ]
  },
  {
   "cell_type": "code",
   "execution_count": 20,
   "metadata": {},
   "outputs": [
    {
     "data": {
      "text/html": [
       "<div>\n",
       "<style scoped>\n",
       "    .dataframe tbody tr th:only-of-type {\n",
       "        vertical-align: middle;\n",
       "    }\n",
       "\n",
       "    .dataframe tbody tr th {\n",
       "        vertical-align: top;\n",
       "    }\n",
       "\n",
       "    .dataframe thead th {\n",
       "        text-align: right;\n",
       "    }\n",
       "</style>\n",
       "<table border=\"1\" class=\"dataframe\">\n",
       "  <thead>\n",
       "    <tr style=\"text-align: right;\">\n",
       "      <th></th>\n",
       "      <th>State</th>\n",
       "      <th>TotalPop</th>\n",
       "      <th>Hispanic</th>\n",
       "      <th>White</th>\n",
       "      <th>Black</th>\n",
       "      <th>Native</th>\n",
       "      <th>Asian</th>\n",
       "      <th>Pacific</th>\n",
       "      <th>Income</th>\n",
       "      <th>GenderPop</th>\n",
       "      <th>MalePop</th>\n",
       "      <th>FemalePop</th>\n",
       "    </tr>\n",
       "  </thead>\n",
       "  <tbody>\n",
       "    <tr>\n",
       "      <td>5</td>\n",
       "      <td>Maryland</td>\n",
       "      <td>5930538</td>\n",
       "      <td>8.472498</td>\n",
       "      <td>52.679050</td>\n",
       "      <td>30.677754</td>\n",
       "      <td>0.203096</td>\n",
       "      <td>5.325414</td>\n",
       "      <td>0.036285</td>\n",
       "      <td>78765.400725</td>\n",
       "      <td>2872643M_F</td>\n",
       "      <td>2872643.0</td>\n",
       "      <td>NaN</td>\n",
       "    </tr>\n",
       "    <tr>\n",
       "      <td>1</td>\n",
       "      <td>Montana</td>\n",
       "      <td>1014699</td>\n",
       "      <td>3.268889</td>\n",
       "      <td>86.415556</td>\n",
       "      <td>0.429259</td>\n",
       "      <td>7.060741</td>\n",
       "      <td>0.570370</td>\n",
       "      <td>0.072222</td>\n",
       "      <td>47645.682836</td>\n",
       "      <td>510163M_F</td>\n",
       "      <td>510163.0</td>\n",
       "      <td>NaN</td>\n",
       "    </tr>\n",
       "  </tbody>\n",
       "</table>\n",
       "</div>"
      ],
      "text/plain": [
       "      State  TotalPop  Hispanic      White      Black    Native     Asian  \\\n",
       "5  Maryland   5930538  8.472498  52.679050  30.677754  0.203096  5.325414   \n",
       "1   Montana   1014699  3.268889  86.415556   0.429259  7.060741  0.570370   \n",
       "\n",
       "    Pacific        Income   GenderPop    MalePop  FemalePop  \n",
       "5  0.036285  78765.400725  2872643M_F  2872643.0        NaN  \n",
       "1  0.072222  47645.682836   510163M_F   510163.0        NaN  "
      ]
     },
     "execution_count": 20,
     "metadata": {},
     "output_type": "execute_result"
    }
   ],
   "source": [
    "states[states['FemalePop'].isnull()]"
   ]
  },
  {
   "cell_type": "code",
   "execution_count": 21,
   "metadata": {},
   "outputs": [],
   "source": [
    "states['FemalePop'] = states['TotalPop'] - states['MalePop']"
   ]
  },
  {
   "cell_type": "code",
   "execution_count": 22,
   "metadata": {},
   "outputs": [
    {
     "name": "stdout",
     "output_type": "stream",
     "text": [
      "<class 'pandas.core.frame.DataFrame'>\n",
      "Int64Index: 46 entries, 0 to 5\n",
      "Data columns (total 12 columns):\n",
      "State        46 non-null object\n",
      "TotalPop     46 non-null int64\n",
      "Hispanic     46 non-null float64\n",
      "White        46 non-null float64\n",
      "Black        46 non-null float64\n",
      "Native       46 non-null float64\n",
      "Asian        46 non-null float64\n",
      "Pacific      46 non-null float64\n",
      "Income       46 non-null float64\n",
      "GenderPop    46 non-null object\n",
      "MalePop      46 non-null float64\n",
      "FemalePop    46 non-null float64\n",
      "dtypes: float64(9), int64(1), object(2)\n",
      "memory usage: 4.7+ KB\n"
     ]
    }
   ],
   "source": [
    "states.info()"
   ]
  },
  {
   "cell_type": "code",
   "execution_count": 23,
   "metadata": {},
   "outputs": [],
   "source": [
    "import matplotlib.pyplot as plt\n",
    "%matplotlib inline"
   ]
  },
  {
   "cell_type": "code",
   "execution_count": 24,
   "metadata": {},
   "outputs": [
    {
     "data": {
      "text/plain": [
       "<matplotlib.collections.PathCollection at 0x1c66a4e5448>"
      ]
     },
     "execution_count": 24,
     "metadata": {},
     "output_type": "execute_result"
    },
    {
     "data": {
      "image/png": "[encoded data removed]",
      "text/plain": [
       "<Figure size 720x432 with 1 Axes>"
      ]
     },
     "metadata": {
      "needs_background": "light"
     },
     "output_type": "display_data"
    }
   ],
   "source": [
    "plt.figure(figsize=(10,6))\n",
    "plt.scatter(x = states['FemalePop'], y = states['Income'])"
   ]
  },
  {
   "cell_type": "code",
   "execution_count": 25,
   "metadata": {},
   "outputs": [
    {
     "data": {
      "text/plain": [
       "<matplotlib.collections.PathCollection at 0x1c66abd67c8>"
      ]
     },
     "execution_count": 25,
     "metadata": {},
     "output_type": "execute_result"
    },
    {
     "data": {
      "image/png": "[encoded data removed]",
      "text/plain": [
       "<Figure size 720x432 with 1 Axes>"
      ]
     },
     "metadata": {
      "needs_background": "light"
     },
     "output_type": "display_data"
    }
   ],
   "source": [
    "plt.figure(figsize=(10,6))\n",
    "plt.scatter(x = states['MalePop'], y = states['Income'])"
   ]
  },
  {
   "cell_type": "code",
   "execution_count": 26,
   "metadata": {},
   "outputs": [
    {
     "data": {
      "text/plain": [
       "(array([19.,  9.,  8.,  3.,  1.,  2.,  0.,  2.,  1.,  0.,  0.,  0.,  0.,\n",
       "         0.,  0.,  0.,  0.,  0.,  0.,  1.]),\n",
       " array([ 1.43190883,  6.30499208, 11.17807533, 16.05115858, 20.92424183,\n",
       "        25.79732509, 30.67040834, 35.54349159, 40.41657484, 45.28965809,\n",
       "        50.16274134, 55.03582459, 59.90890784, 64.78199109, 69.65507434,\n",
       "        74.52815759, 79.40124084, 84.27432409, 89.14740734, 94.02049059,\n",
       "        98.89357384]),\n",
       " <a list of 20 Patch objects>)"
      ]
     },
     "execution_count": 26,
     "metadata": {},
     "output_type": "execute_result"
    },
    {
     "data": {
      "image/png": "[encoded data removed]",
      "text/plain": [
       "<Figure size 720x432 with 1 Axes>"
      ]
     },
     "metadata": {
      "needs_background": "light"
     },
     "output_type": "display_data"
    }
   ],
   "source": [
    "plt.figure(figsize=(10,6))\n",
    "plt.hist(states['Hispanic'],bins=20)"
   ]
  },
  {
   "cell_type": "code",
   "execution_count": 27,
   "metadata": {},
   "outputs": [
    {
     "data": {
      "text/plain": [
       "array([[<matplotlib.axes._subplots.AxesSubplot object at 0x000001C66ACB9688>,\n",
       "        <matplotlib.axes._subplots.AxesSubplot object at 0x000001C66ACE5988>,\n",
       "        <matplotlib.axes._subplots.AxesSubplot object at 0x000001C66ADABB08>],\n",
       "       [<matplotlib.axes._subplots.AxesSubplot object at 0x000001C66ADE4C08>,\n",
       "        <matplotlib.axes._subplots.AxesSubplot object at 0x000001C66AE1CD08>,\n",
       "        <matplotlib.axes._subplots.AxesSubplot object at 0x000001C66AE55E48>],\n",
       "       [<matplotlib.axes._subplots.AxesSubplot object at 0x000001C66AE8DEC8>,\n",
       "        <matplotlib.axes._subplots.AxesSubplot object at 0x000001C66AEC5FC8>,\n",
       "        <matplotlib.axes._subplots.AxesSubplot object at 0x000001C66AED1BC8>],\n",
       "       [<matplotlib.axes._subplots.AxesSubplot object at 0x000001C66AF0AD88>,\n",
       "        <matplotlib.axes._subplots.AxesSubplot object at 0x000001C66AF75348>,\n",
       "        <matplotlib.axes._subplots.AxesSubplot object at 0x000001C66AFAC4C8>]],\n",
       "      dtype=object)"
      ]
     },
     "execution_count": 27,
     "metadata": {},
     "output_type": "execute_result"
    },
    {
     "data": {
      "image/png": "[encoded data removed]",
      "text/plain": [
       "<Figure size 1440x1296 with 12 Axes>"
      ]
     },
     "metadata": {
      "needs_background": "light"
     },
     "output_type": "display_data"
    }
   ],
   "source": [
    "states.hist(bins=50,figsize=(20,18))"
   ]
  },
  {
   "cell_type": "code",
   "execution_count": 28,
   "metadata": {},
   "outputs": [
    {
     "data": {
      "image/png": "[encoded data removed]",
      "text/plain": [
       "<Figure size 1152x720 with 1 Axes>"
      ]
     },
     "metadata": {
      "needs_background": "light"
     },
     "output_type": "display_data"
    }
   ],
   "source": [
    "plt.figure(figsize=(16,10))\n",
    "plt.bar(states['State'],states['Hispanic'])\n",
    "plt.tight_layout()"
   ]
  },
  {
   "cell_type": "markdown",
   "metadata": {},
   "source": [
    "# Petal Power Inventory Data"
   ]
  },
  {
   "cell_type": "code",
   "execution_count": 29,
   "metadata": {},
   "outputs": [],
   "source": [
    "inventory = pd.read_csv('inventory.csv')"
   ]
  },
  {
   "cell_type": "code",
   "execution_count": 30,
   "metadata": {},
   "outputs": [
    {
     "name": "stdout",
     "output_type": "stream",
     "text": [
      "<class 'pandas.core.frame.DataFrame'>\n",
      "RangeIndex: 29 entries, 0 to 28\n",
      "Data columns (total 5 columns):\n",
      "location               29 non-null object\n",
      "product_type           29 non-null object\n",
      "product_description    29 non-null object\n",
      "quantity               29 non-null int64\n",
      "price                  29 non-null float64\n",
      "dtypes: float64(1), int64(1), object(3)\n",
      "memory usage: 1.3+ KB\n"
     ]
    }
   ],
   "source": [
    "inventory.info()"
   ]
  },
  {
   "cell_type": "code",
   "execution_count": 31,
   "metadata": {},
   "outputs": [
    {
     "data": {
      "text/html": [
       "<div>\n",
       "<style scoped>\n",
       "    .dataframe tbody tr th:only-of-type {\n",
       "        vertical-align: middle;\n",
       "    }\n",
       "\n",
       "    .dataframe tbody tr th {\n",
       "        vertical-align: top;\n",
       "    }\n",
       "\n",
       "    .dataframe thead th {\n",
       "        text-align: right;\n",
       "    }\n",
       "</style>\n",
       "<table border=\"1\" class=\"dataframe\">\n",
       "  <thead>\n",
       "    <tr style=\"text-align: right;\">\n",
       "      <th></th>\n",
       "      <th>location</th>\n",
       "      <th>product_type</th>\n",
       "      <th>product_description</th>\n",
       "      <th>quantity</th>\n",
       "      <th>price</th>\n",
       "    </tr>\n",
       "  </thead>\n",
       "  <tbody>\n",
       "    <tr>\n",
       "      <td>0</td>\n",
       "      <td>Staten Island</td>\n",
       "      <td>seeds</td>\n",
       "      <td>daisy</td>\n",
       "      <td>4</td>\n",
       "      <td>6.99</td>\n",
       "    </tr>\n",
       "    <tr>\n",
       "      <td>1</td>\n",
       "      <td>Staten Island</td>\n",
       "      <td>seeds</td>\n",
       "      <td>calla lily</td>\n",
       "      <td>46</td>\n",
       "      <td>19.99</td>\n",
       "    </tr>\n",
       "    <tr>\n",
       "      <td>2</td>\n",
       "      <td>Staten Island</td>\n",
       "      <td>seeds</td>\n",
       "      <td>tomato</td>\n",
       "      <td>85</td>\n",
       "      <td>13.99</td>\n",
       "    </tr>\n",
       "    <tr>\n",
       "      <td>3</td>\n",
       "      <td>Staten Island</td>\n",
       "      <td>garden tools</td>\n",
       "      <td>rake</td>\n",
       "      <td>4</td>\n",
       "      <td>13.99</td>\n",
       "    </tr>\n",
       "    <tr>\n",
       "      <td>4</td>\n",
       "      <td>Staten Island</td>\n",
       "      <td>garden tools</td>\n",
       "      <td>wheelbarrow</td>\n",
       "      <td>0</td>\n",
       "      <td>89.99</td>\n",
       "    </tr>\n",
       "    <tr>\n",
       "      <td>5</td>\n",
       "      <td>Staten Island</td>\n",
       "      <td>garden tools</td>\n",
       "      <td>spade</td>\n",
       "      <td>93</td>\n",
       "      <td>19.99</td>\n",
       "    </tr>\n",
       "    <tr>\n",
       "      <td>6</td>\n",
       "      <td>Staten Island</td>\n",
       "      <td>pest_control</td>\n",
       "      <td>insect killer</td>\n",
       "      <td>74</td>\n",
       "      <td>12.99</td>\n",
       "    </tr>\n",
       "    <tr>\n",
       "      <td>7</td>\n",
       "      <td>Staten Island</td>\n",
       "      <td>pest_control</td>\n",
       "      <td>weed killer</td>\n",
       "      <td>8</td>\n",
       "      <td>23.99</td>\n",
       "    </tr>\n",
       "    <tr>\n",
       "      <td>8</td>\n",
       "      <td>Staten Island</td>\n",
       "      <td>planter</td>\n",
       "      <td>20 inch terracotta planter</td>\n",
       "      <td>0</td>\n",
       "      <td>17.99</td>\n",
       "    </tr>\n",
       "    <tr>\n",
       "      <td>9</td>\n",
       "      <td>Staten Island</td>\n",
       "      <td>planter</td>\n",
       "      <td>8 inch plastic planter</td>\n",
       "      <td>53</td>\n",
       "      <td>3.99</td>\n",
       "    </tr>\n",
       "  </tbody>\n",
       "</table>\n",
       "</div>"
      ],
      "text/plain": [
       "        location  product_type         product_description  quantity  price\n",
       "0  Staten Island         seeds                       daisy         4   6.99\n",
       "1  Staten Island         seeds                  calla lily        46  19.99\n",
       "2  Staten Island         seeds                      tomato        85  13.99\n",
       "3  Staten Island  garden tools                        rake         4  13.99\n",
       "4  Staten Island  garden tools                 wheelbarrow         0  89.99\n",
       "5  Staten Island  garden tools                       spade        93  19.99\n",
       "6  Staten Island  pest_control               insect killer        74  12.99\n",
       "7  Staten Island  pest_control                 weed killer         8  23.99\n",
       "8  Staten Island       planter  20 inch terracotta planter         0  17.99\n",
       "9  Staten Island       planter      8 inch plastic planter        53   3.99"
      ]
     },
     "execution_count": 31,
     "metadata": {},
     "output_type": "execute_result"
    }
   ],
   "source": [
    "inventory.head(10)"
   ]
  },
  {
   "cell_type": "code",
   "execution_count": 32,
   "metadata": {},
   "outputs": [],
   "source": [
    "statenIsland = inventory[inventory['location'] == 'Staten Island']"
   ]
  },
  {
   "cell_type": "code",
   "execution_count": 33,
   "metadata": {},
   "outputs": [],
   "source": [
    "product_request = statenIsland['product_type'].unique()"
   ]
  },
  {
   "cell_type": "code",
   "execution_count": 34,
   "metadata": {},
   "outputs": [],
   "source": [
    "seed_request = inventory[(inventory['location'] == 'Brooklyn') & (inventory['product_type'] == 'seeds')]['product_description']"
   ]
  },
  {
   "cell_type": "code",
   "execution_count": 35,
   "metadata": {},
   "outputs": [
    {
     "name": "stdout",
     "output_type": "stream",
     "text": [
      "10         daisy\n",
      "11    calla lily\n",
      "12        tomato\n",
      "Name: product_description, dtype: object\n"
     ]
    }
   ],
   "source": [
    "print(seed_request)"
   ]
  },
  {
   "cell_type": "code",
   "execution_count": 36,
   "metadata": {},
   "outputs": [],
   "source": [
    "inventory['in_stock'] = inventory['quantity'].apply(lambda x: True if x>0 else False)"
   ]
  },
  {
   "cell_type": "code",
   "execution_count": 37,
   "metadata": {},
   "outputs": [
    {
     "data": {
      "text/html": [
       "<div>\n",
       "<style scoped>\n",
       "    .dataframe tbody tr th:only-of-type {\n",
       "        vertical-align: middle;\n",
       "    }\n",
       "\n",
       "    .dataframe tbody tr th {\n",
       "        vertical-align: top;\n",
       "    }\n",
       "\n",
       "    .dataframe thead th {\n",
       "        text-align: right;\n",
       "    }\n",
       "</style>\n",
       "<table border=\"1\" class=\"dataframe\">\n",
       "  <thead>\n",
       "    <tr style=\"text-align: right;\">\n",
       "      <th></th>\n",
       "      <th>location</th>\n",
       "      <th>product_type</th>\n",
       "      <th>product_description</th>\n",
       "      <th>quantity</th>\n",
       "      <th>price</th>\n",
       "      <th>in_stock</th>\n",
       "    </tr>\n",
       "  </thead>\n",
       "  <tbody>\n",
       "    <tr>\n",
       "      <td>0</td>\n",
       "      <td>Staten Island</td>\n",
       "      <td>seeds</td>\n",
       "      <td>daisy</td>\n",
       "      <td>4</td>\n",
       "      <td>6.99</td>\n",
       "      <td>True</td>\n",
       "    </tr>\n",
       "    <tr>\n",
       "      <td>1</td>\n",
       "      <td>Staten Island</td>\n",
       "      <td>seeds</td>\n",
       "      <td>calla lily</td>\n",
       "      <td>46</td>\n",
       "      <td>19.99</td>\n",
       "      <td>True</td>\n",
       "    </tr>\n",
       "    <tr>\n",
       "      <td>2</td>\n",
       "      <td>Staten Island</td>\n",
       "      <td>seeds</td>\n",
       "      <td>tomato</td>\n",
       "      <td>85</td>\n",
       "      <td>13.99</td>\n",
       "      <td>True</td>\n",
       "    </tr>\n",
       "    <tr>\n",
       "      <td>3</td>\n",
       "      <td>Staten Island</td>\n",
       "      <td>garden tools</td>\n",
       "      <td>rake</td>\n",
       "      <td>4</td>\n",
       "      <td>13.99</td>\n",
       "      <td>True</td>\n",
       "    </tr>\n",
       "    <tr>\n",
       "      <td>4</td>\n",
       "      <td>Staten Island</td>\n",
       "      <td>garden tools</td>\n",
       "      <td>wheelbarrow</td>\n",
       "      <td>0</td>\n",
       "      <td>89.99</td>\n",
       "      <td>False</td>\n",
       "    </tr>\n",
       "  </tbody>\n",
       "</table>\n",
       "</div>"
      ],
      "text/plain": [
       "        location  product_type product_description  quantity  price  in_stock\n",
       "0  Staten Island         seeds               daisy         4   6.99      True\n",
       "1  Staten Island         seeds          calla lily        46  19.99      True\n",
       "2  Staten Island         seeds              tomato        85  13.99      True\n",
       "3  Staten Island  garden tools                rake         4  13.99      True\n",
       "4  Staten Island  garden tools         wheelbarrow         0  89.99     False"
      ]
     },
     "execution_count": 37,
     "metadata": {},
     "output_type": "execute_result"
    }
   ],
   "source": [
    "inventory.head()"
   ]
  },
  {
   "cell_type": "code",
   "execution_count": 38,
   "metadata": {},
   "outputs": [],
   "source": [
    "inventory['total_value'] = inventory['price'] * inventory['quantity']"
   ]
  },
  {
   "cell_type": "code",
   "execution_count": 39,
   "metadata": {},
   "outputs": [
    {
     "data": {
      "text/html": [
       "<div>\n",
       "<style scoped>\n",
       "    .dataframe tbody tr th:only-of-type {\n",
       "        vertical-align: middle;\n",
       "    }\n",
       "\n",
       "    .dataframe tbody tr th {\n",
       "        vertical-align: top;\n",
       "    }\n",
       "\n",
       "    .dataframe thead th {\n",
       "        text-align: right;\n",
       "    }\n",
       "</style>\n",
       "<table border=\"1\" class=\"dataframe\">\n",
       "  <thead>\n",
       "    <tr style=\"text-align: right;\">\n",
       "      <th></th>\n",
       "      <th>location</th>\n",
       "      <th>product_type</th>\n",
       "      <th>product_description</th>\n",
       "      <th>quantity</th>\n",
       "      <th>price</th>\n",
       "      <th>in_stock</th>\n",
       "      <th>total_value</th>\n",
       "    </tr>\n",
       "  </thead>\n",
       "  <tbody>\n",
       "    <tr>\n",
       "      <td>0</td>\n",
       "      <td>Staten Island</td>\n",
       "      <td>seeds</td>\n",
       "      <td>daisy</td>\n",
       "      <td>4</td>\n",
       "      <td>6.99</td>\n",
       "      <td>True</td>\n",
       "      <td>27.96</td>\n",
       "    </tr>\n",
       "    <tr>\n",
       "      <td>1</td>\n",
       "      <td>Staten Island</td>\n",
       "      <td>seeds</td>\n",
       "      <td>calla lily</td>\n",
       "      <td>46</td>\n",
       "      <td>19.99</td>\n",
       "      <td>True</td>\n",
       "      <td>919.54</td>\n",
       "    </tr>\n",
       "    <tr>\n",
       "      <td>2</td>\n",
       "      <td>Staten Island</td>\n",
       "      <td>seeds</td>\n",
       "      <td>tomato</td>\n",
       "      <td>85</td>\n",
       "      <td>13.99</td>\n",
       "      <td>True</td>\n",
       "      <td>1189.15</td>\n",
       "    </tr>\n",
       "    <tr>\n",
       "      <td>3</td>\n",
       "      <td>Staten Island</td>\n",
       "      <td>garden tools</td>\n",
       "      <td>rake</td>\n",
       "      <td>4</td>\n",
       "      <td>13.99</td>\n",
       "      <td>True</td>\n",
       "      <td>55.96</td>\n",
       "    </tr>\n",
       "    <tr>\n",
       "      <td>4</td>\n",
       "      <td>Staten Island</td>\n",
       "      <td>garden tools</td>\n",
       "      <td>wheelbarrow</td>\n",
       "      <td>0</td>\n",
       "      <td>89.99</td>\n",
       "      <td>False</td>\n",
       "      <td>0.00</td>\n",
       "    </tr>\n",
       "  </tbody>\n",
       "</table>\n",
       "</div>"
      ],
      "text/plain": [
       "        location  product_type product_description  quantity  price  in_stock  \\\n",
       "0  Staten Island         seeds               daisy         4   6.99      True   \n",
       "1  Staten Island         seeds          calla lily        46  19.99      True   \n",
       "2  Staten Island         seeds              tomato        85  13.99      True   \n",
       "3  Staten Island  garden tools                rake         4  13.99      True   \n",
       "4  Staten Island  garden tools         wheelbarrow         0  89.99     False   \n",
       "\n",
       "   total_value  \n",
       "0        27.96  \n",
       "1       919.54  \n",
       "2      1189.15  \n",
       "3        55.96  \n",
       "4         0.00  "
      ]
     },
     "execution_count": 39,
     "metadata": {},
     "output_type": "execute_result"
    }
   ],
   "source": [
    "inventory.head()"
   ]
  },
  {
   "cell_type": "code",
   "execution_count": 40,
   "metadata": {},
   "outputs": [],
   "source": [
    "combine_lambda = lambda row: \\\n",
    "    '{} - {}'.format(row.product_type,\n",
    "                     row.product_description)"
   ]
  },
  {
   "cell_type": "code",
   "execution_count": 41,
   "metadata": {},
   "outputs": [],
   "source": [
    "inventory['full_description']  = inventory.apply(combine_lambda,axis='columns')"
   ]
  },
  {
   "cell_type": "code",
   "execution_count": 42,
   "metadata": {},
   "outputs": [
    {
     "data": {
      "text/html": [
       "<div>\n",
       "<style scoped>\n",
       "    .dataframe tbody tr th:only-of-type {\n",
       "        vertical-align: middle;\n",
       "    }\n",
       "\n",
       "    .dataframe tbody tr th {\n",
       "        vertical-align: top;\n",
       "    }\n",
       "\n",
       "    .dataframe thead th {\n",
       "        text-align: right;\n",
       "    }\n",
       "</style>\n",
       "<table border=\"1\" class=\"dataframe\">\n",
       "  <thead>\n",
       "    <tr style=\"text-align: right;\">\n",
       "      <th></th>\n",
       "      <th>location</th>\n",
       "      <th>product_type</th>\n",
       "      <th>product_description</th>\n",
       "      <th>quantity</th>\n",
       "      <th>price</th>\n",
       "      <th>in_stock</th>\n",
       "      <th>total_value</th>\n",
       "      <th>full_description</th>\n",
       "    </tr>\n",
       "  </thead>\n",
       "  <tbody>\n",
       "    <tr>\n",
       "      <td>0</td>\n",
       "      <td>Staten Island</td>\n",
       "      <td>seeds</td>\n",
       "      <td>daisy</td>\n",
       "      <td>4</td>\n",
       "      <td>6.99</td>\n",
       "      <td>True</td>\n",
       "      <td>27.96</td>\n",
       "      <td>seeds - daisy</td>\n",
       "    </tr>\n",
       "    <tr>\n",
       "      <td>1</td>\n",
       "      <td>Staten Island</td>\n",
       "      <td>seeds</td>\n",
       "      <td>calla lily</td>\n",
       "      <td>46</td>\n",
       "      <td>19.99</td>\n",
       "      <td>True</td>\n",
       "      <td>919.54</td>\n",
       "      <td>seeds - calla lily</td>\n",
       "    </tr>\n",
       "    <tr>\n",
       "      <td>2</td>\n",
       "      <td>Staten Island</td>\n",
       "      <td>seeds</td>\n",
       "      <td>tomato</td>\n",
       "      <td>85</td>\n",
       "      <td>13.99</td>\n",
       "      <td>True</td>\n",
       "      <td>1189.15</td>\n",
       "      <td>seeds - tomato</td>\n",
       "    </tr>\n",
       "    <tr>\n",
       "      <td>3</td>\n",
       "      <td>Staten Island</td>\n",
       "      <td>garden tools</td>\n",
       "      <td>rake</td>\n",
       "      <td>4</td>\n",
       "      <td>13.99</td>\n",
       "      <td>True</td>\n",
       "      <td>55.96</td>\n",
       "      <td>garden tools - rake</td>\n",
       "    </tr>\n",
       "    <tr>\n",
       "      <td>4</td>\n",
       "      <td>Staten Island</td>\n",
       "      <td>garden tools</td>\n",
       "      <td>wheelbarrow</td>\n",
       "      <td>0</td>\n",
       "      <td>89.99</td>\n",
       "      <td>False</td>\n",
       "      <td>0.00</td>\n",
       "      <td>garden tools - wheelbarrow</td>\n",
       "    </tr>\n",
       "  </tbody>\n",
       "</table>\n",
       "</div>"
      ],
      "text/plain": [
       "        location  product_type product_description  quantity  price  in_stock  \\\n",
       "0  Staten Island         seeds               daisy         4   6.99      True   \n",
       "1  Staten Island         seeds          calla lily        46  19.99      True   \n",
       "2  Staten Island         seeds              tomato        85  13.99      True   \n",
       "3  Staten Island  garden tools                rake         4  13.99      True   \n",
       "4  Staten Island  garden tools         wheelbarrow         0  89.99     False   \n",
       "\n",
       "   total_value            full_description  \n",
       "0        27.96               seeds - daisy  \n",
       "1       919.54          seeds - calla lily  \n",
       "2      1189.15              seeds - tomato  \n",
       "3        55.96         garden tools - rake  \n",
       "4         0.00  garden tools - wheelbarrow  "
      ]
     },
     "execution_count": 42,
     "metadata": {},
     "output_type": "execute_result"
    }
   ],
   "source": [
    "inventory.head()"
   ]
  },
  {
   "cell_type": "code",
   "execution_count": 43,
   "metadata": {},
   "outputs": [
    {
     "data": {
      "text/plain": [
       "'seeds - daisy'"
      ]
     },
     "execution_count": 43,
     "metadata": {},
     "output_type": "execute_result"
    }
   ],
   "source": [
    "inventory['full_description'].iloc[0]"
   ]
  },
  {
   "cell_type": "code",
   "execution_count": null,
   "metadata": {},
   "outputs": [],
   "source": []
  }
 ],
 "metadata": {
  "kernelspec": {
   "display_name": "Python 3",
   "language": "python",
   "name": "python3"
  },
  "language_info": {
   "codemirror_mode": {
    "name": "ipython",
    "version": 3
   },
   "file_extension": ".py",
   "mimetype": "text/x-python",
   "name": "python",
   "nbconvert_exporter": "python",
   "pygments_lexer": "ipython3",
   "version": "3.7.4"
  }
 },
 "nbformat": 4,
 "nbformat_minor": 2
}
